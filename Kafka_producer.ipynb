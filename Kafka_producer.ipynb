{
  "nbformat": 4,
  "nbformat_minor": 0,
  "metadata": {
    "colab": {
      "provenance": []
    },
    "kernelspec": {
      "name": "python3",
      "display_name": "Python 3"
    },
    "language_info": {
      "name": "python"
    }
  },
  "cells": [
    {
      "cell_type": "code",
      "source": [
        "pip install kafka-python"
      ],
      "metadata": {
        "colab": {
          "base_uri": "https://localhost:8080/"
        },
        "id": "qEAk1jpBkFEh",
        "outputId": "2b747c6d-c21e-4967-c347-403f8fe99bb7"
      },
      "execution_count": null,
      "outputs": [
        {
          "output_type": "stream",
          "name": "stdout",
          "text": [
            "Collecting kafka-python\n",
            "  Downloading kafka_python-2.0.2-py2.py3-none-any.whl (246 kB)\n",
            "\u001b[2K     \u001b[90m━━━━━━━━━━━━━━━━━━━━━━━━━━━━━━━━━━━━━━━━\u001b[0m \u001b[32m246.5/246.5 kB\u001b[0m \u001b[31m2.4 MB/s\u001b[0m eta \u001b[36m0:00:00\u001b[0m\n",
            "\u001b[?25hInstalling collected packages: kafka-python\n",
            "Successfully installed kafka-python-2.0.2\n"
          ]
        }
      ]
    },
    {
      "cell_type": "code",
      "source": [
        "import pandas as pd\n",
        "from kafka import KafkaConsumer, KafkaProducer\n",
        "from time import sleep\n",
        "from json import dumps\n",
        "import json"
      ],
      "metadata": {
        "id": "cA9yIoNukYUh"
      },
      "execution_count": null,
      "outputs": []
    },
    {
      "cell_type": "code",
      "source": [
        "producer = KafkaProducer(bootstrap_servers = ['3.21.244.255:9092'],\n",
        "                         value_serializer = lambda x: dumps(x).encode('utf-8'))"
      ],
      "metadata": {
        "id": "h8GZfVg1kkTA"
      },
      "execution_count": null,
      "outputs": []
    },
    {
      "cell_type": "code",
      "source": [
        "producer.send('demo_test', value = \"Hello hjhh\")"
      ],
      "metadata": {
        "colab": {
          "base_uri": "https://localhost:8080/"
        },
        "id": "Eyu2z7aClQpm",
        "outputId": "c4fe8121-af2c-4b8e-e539-6cbfef06c202"
      },
      "execution_count": null,
      "outputs": [
        {
          "output_type": "execute_result",
          "data": {
            "text/plain": [
              "<kafka.producer.future.FutureRecordMetadata at 0x7d4a798a86a0>"
            ]
          },
          "metadata": {},
          "execution_count": 11
        }
      ]
    },
    {
      "cell_type": "code",
      "source": [
        "df = pd.read_csv('/content/drive/MyDrive/indexProcessed.csv')"
      ],
      "metadata": {
        "id": "vBmgRjTOkxgo"
      },
      "execution_count": null,
      "outputs": []
    },
    {
      "cell_type": "code",
      "source": [
        "df.shape"
      ],
      "metadata": {
        "id": "Btc_altY9oWf"
      },
      "execution_count": null,
      "outputs": []
    },
    {
      "cell_type": "code",
      "source": [
        "df.head()"
      ],
      "metadata": {
        "colab": {
          "base_uri": "https://localhost:8080/",
          "height": 206
        },
        "id": "8b9_slu34PZQ",
        "outputId": "f6777c70-ec60-4382-9a00-ded45ae76c4f"
      },
      "execution_count": null,
      "outputs": [
        {
          "output_type": "execute_result",
          "data": {
            "text/plain": [
              "  Index        Date         Open         High          Low        Close  \\\n",
              "0   HSI  1986-12-31  2568.300049  2568.300049  2568.300049  2568.300049   \n",
              "1   HSI  1987-01-02  2540.100098  2540.100098  2540.100098  2540.100098   \n",
              "2   HSI  1987-01-05  2552.399902  2552.399902  2552.399902  2552.399902   \n",
              "3   HSI  1987-01-06  2583.899902  2583.899902  2583.899902  2583.899902   \n",
              "4   HSI  1987-01-07  2607.100098  2607.100098  2607.100098  2607.100098   \n",
              "\n",
              "     Adj Close  Volume    CloseUSD  \n",
              "0  2568.300049     0.0  333.879006  \n",
              "1  2540.100098     0.0  330.213013  \n",
              "2  2552.399902     0.0  331.811987  \n",
              "3  2583.899902     0.0  335.906987  \n",
              "4  2607.100098     0.0  338.923013  "
            ],
            "text/html": [
              "\n",
              "  <div id=\"df-ac7b6a04-eccb-418c-818e-ddbcd39234d7\" class=\"colab-df-container\">\n",
              "    <div>\n",
              "<style scoped>\n",
              "    .dataframe tbody tr th:only-of-type {\n",
              "        vertical-align: middle;\n",
              "    }\n",
              "\n",
              "    .dataframe tbody tr th {\n",
              "        vertical-align: top;\n",
              "    }\n",
              "\n",
              "    .dataframe thead th {\n",
              "        text-align: right;\n",
              "    }\n",
              "</style>\n",
              "<table border=\"1\" class=\"dataframe\">\n",
              "  <thead>\n",
              "    <tr style=\"text-align: right;\">\n",
              "      <th></th>\n",
              "      <th>Index</th>\n",
              "      <th>Date</th>\n",
              "      <th>Open</th>\n",
              "      <th>High</th>\n",
              "      <th>Low</th>\n",
              "      <th>Close</th>\n",
              "      <th>Adj Close</th>\n",
              "      <th>Volume</th>\n",
              "      <th>CloseUSD</th>\n",
              "    </tr>\n",
              "  </thead>\n",
              "  <tbody>\n",
              "    <tr>\n",
              "      <th>0</th>\n",
              "      <td>HSI</td>\n",
              "      <td>1986-12-31</td>\n",
              "      <td>2568.300049</td>\n",
              "      <td>2568.300049</td>\n",
              "      <td>2568.300049</td>\n",
              "      <td>2568.300049</td>\n",
              "      <td>2568.300049</td>\n",
              "      <td>0.0</td>\n",
              "      <td>333.879006</td>\n",
              "    </tr>\n",
              "    <tr>\n",
              "      <th>1</th>\n",
              "      <td>HSI</td>\n",
              "      <td>1987-01-02</td>\n",
              "      <td>2540.100098</td>\n",
              "      <td>2540.100098</td>\n",
              "      <td>2540.100098</td>\n",
              "      <td>2540.100098</td>\n",
              "      <td>2540.100098</td>\n",
              "      <td>0.0</td>\n",
              "      <td>330.213013</td>\n",
              "    </tr>\n",
              "    <tr>\n",
              "      <th>2</th>\n",
              "      <td>HSI</td>\n",
              "      <td>1987-01-05</td>\n",
              "      <td>2552.399902</td>\n",
              "      <td>2552.399902</td>\n",
              "      <td>2552.399902</td>\n",
              "      <td>2552.399902</td>\n",
              "      <td>2552.399902</td>\n",
              "      <td>0.0</td>\n",
              "      <td>331.811987</td>\n",
              "    </tr>\n",
              "    <tr>\n",
              "      <th>3</th>\n",
              "      <td>HSI</td>\n",
              "      <td>1987-01-06</td>\n",
              "      <td>2583.899902</td>\n",
              "      <td>2583.899902</td>\n",
              "      <td>2583.899902</td>\n",
              "      <td>2583.899902</td>\n",
              "      <td>2583.899902</td>\n",
              "      <td>0.0</td>\n",
              "      <td>335.906987</td>\n",
              "    </tr>\n",
              "    <tr>\n",
              "      <th>4</th>\n",
              "      <td>HSI</td>\n",
              "      <td>1987-01-07</td>\n",
              "      <td>2607.100098</td>\n",
              "      <td>2607.100098</td>\n",
              "      <td>2607.100098</td>\n",
              "      <td>2607.100098</td>\n",
              "      <td>2607.100098</td>\n",
              "      <td>0.0</td>\n",
              "      <td>338.923013</td>\n",
              "    </tr>\n",
              "  </tbody>\n",
              "</table>\n",
              "</div>\n",
              "    <div class=\"colab-df-buttons\">\n",
              "\n",
              "  <div class=\"colab-df-container\">\n",
              "    <button class=\"colab-df-convert\" onclick=\"convertToInteractive('df-ac7b6a04-eccb-418c-818e-ddbcd39234d7')\"\n",
              "            title=\"Convert this dataframe to an interactive table.\"\n",
              "            style=\"display:none;\">\n",
              "\n",
              "  <svg xmlns=\"http://www.w3.org/2000/svg\" height=\"24px\" viewBox=\"0 -960 960 960\">\n",
              "    <path d=\"M120-120v-720h720v720H120Zm60-500h600v-160H180v160Zm220 220h160v-160H400v160Zm0 220h160v-160H400v160ZM180-400h160v-160H180v160Zm440 0h160v-160H620v160ZM180-180h160v-160H180v160Zm440 0h160v-160H620v160Z\"/>\n",
              "  </svg>\n",
              "    </button>\n",
              "\n",
              "  <style>\n",
              "    .colab-df-container {\n",
              "      display:flex;\n",
              "      gap: 12px;\n",
              "    }\n",
              "\n",
              "    .colab-df-convert {\n",
              "      background-color: #E8F0FE;\n",
              "      border: none;\n",
              "      border-radius: 50%;\n",
              "      cursor: pointer;\n",
              "      display: none;\n",
              "      fill: #1967D2;\n",
              "      height: 32px;\n",
              "      padding: 0 0 0 0;\n",
              "      width: 32px;\n",
              "    }\n",
              "\n",
              "    .colab-df-convert:hover {\n",
              "      background-color: #E2EBFA;\n",
              "      box-shadow: 0px 1px 2px rgba(60, 64, 67, 0.3), 0px 1px 3px 1px rgba(60, 64, 67, 0.15);\n",
              "      fill: #174EA6;\n",
              "    }\n",
              "\n",
              "    .colab-df-buttons div {\n",
              "      margin-bottom: 4px;\n",
              "    }\n",
              "\n",
              "    [theme=dark] .colab-df-convert {\n",
              "      background-color: #3B4455;\n",
              "      fill: #D2E3FC;\n",
              "    }\n",
              "\n",
              "    [theme=dark] .colab-df-convert:hover {\n",
              "      background-color: #434B5C;\n",
              "      box-shadow: 0px 1px 3px 1px rgba(0, 0, 0, 0.15);\n",
              "      filter: drop-shadow(0px 1px 2px rgba(0, 0, 0, 0.3));\n",
              "      fill: #FFFFFF;\n",
              "    }\n",
              "  </style>\n",
              "\n",
              "    <script>\n",
              "      const buttonEl =\n",
              "        document.querySelector('#df-ac7b6a04-eccb-418c-818e-ddbcd39234d7 button.colab-df-convert');\n",
              "      buttonEl.style.display =\n",
              "        google.colab.kernel.accessAllowed ? 'block' : 'none';\n",
              "\n",
              "      async function convertToInteractive(key) {\n",
              "        const element = document.querySelector('#df-ac7b6a04-eccb-418c-818e-ddbcd39234d7');\n",
              "        const dataTable =\n",
              "          await google.colab.kernel.invokeFunction('convertToInteractive',\n",
              "                                                    [key], {});\n",
              "        if (!dataTable) return;\n",
              "\n",
              "        const docLinkHtml = 'Like what you see? Visit the ' +\n",
              "          '<a target=\"_blank\" href=https://colab.research.google.com/notebooks/data_table.ipynb>data table notebook</a>'\n",
              "          + ' to learn more about interactive tables.';\n",
              "        element.innerHTML = '';\n",
              "        dataTable['output_type'] = 'display_data';\n",
              "        await google.colab.output.renderOutput(dataTable, element);\n",
              "        const docLink = document.createElement('div');\n",
              "        docLink.innerHTML = docLinkHtml;\n",
              "        element.appendChild(docLink);\n",
              "      }\n",
              "    </script>\n",
              "  </div>\n",
              "\n",
              "\n",
              "<div id=\"df-95cb9b94-9022-4f5a-a17a-0df46a48dc16\">\n",
              "  <button class=\"colab-df-quickchart\" onclick=\"quickchart('df-95cb9b94-9022-4f5a-a17a-0df46a48dc16')\"\n",
              "            title=\"Suggest charts\"\n",
              "            style=\"display:none;\">\n",
              "\n",
              "<svg xmlns=\"http://www.w3.org/2000/svg\" height=\"24px\"viewBox=\"0 0 24 24\"\n",
              "     width=\"24px\">\n",
              "    <g>\n",
              "        <path d=\"M19 3H5c-1.1 0-2 .9-2 2v14c0 1.1.9 2 2 2h14c1.1 0 2-.9 2-2V5c0-1.1-.9-2-2-2zM9 17H7v-7h2v7zm4 0h-2V7h2v10zm4 0h-2v-4h2v4z\"/>\n",
              "    </g>\n",
              "</svg>\n",
              "  </button>\n",
              "\n",
              "<style>\n",
              "  .colab-df-quickchart {\n",
              "      --bg-color: #E8F0FE;\n",
              "      --fill-color: #1967D2;\n",
              "      --hover-bg-color: #E2EBFA;\n",
              "      --hover-fill-color: #174EA6;\n",
              "      --disabled-fill-color: #AAA;\n",
              "      --disabled-bg-color: #DDD;\n",
              "  }\n",
              "\n",
              "  [theme=dark] .colab-df-quickchart {\n",
              "      --bg-color: #3B4455;\n",
              "      --fill-color: #D2E3FC;\n",
              "      --hover-bg-color: #434B5C;\n",
              "      --hover-fill-color: #FFFFFF;\n",
              "      --disabled-bg-color: #3B4455;\n",
              "      --disabled-fill-color: #666;\n",
              "  }\n",
              "\n",
              "  .colab-df-quickchart {\n",
              "    background-color: var(--bg-color);\n",
              "    border: none;\n",
              "    border-radius: 50%;\n",
              "    cursor: pointer;\n",
              "    display: none;\n",
              "    fill: var(--fill-color);\n",
              "    height: 32px;\n",
              "    padding: 0;\n",
              "    width: 32px;\n",
              "  }\n",
              "\n",
              "  .colab-df-quickchart:hover {\n",
              "    background-color: var(--hover-bg-color);\n",
              "    box-shadow: 0 1px 2px rgba(60, 64, 67, 0.3), 0 1px 3px 1px rgba(60, 64, 67, 0.15);\n",
              "    fill: var(--button-hover-fill-color);\n",
              "  }\n",
              "\n",
              "  .colab-df-quickchart-complete:disabled,\n",
              "  .colab-df-quickchart-complete:disabled:hover {\n",
              "    background-color: var(--disabled-bg-color);\n",
              "    fill: var(--disabled-fill-color);\n",
              "    box-shadow: none;\n",
              "  }\n",
              "\n",
              "  .colab-df-spinner {\n",
              "    border: 2px solid var(--fill-color);\n",
              "    border-color: transparent;\n",
              "    border-bottom-color: var(--fill-color);\n",
              "    animation:\n",
              "      spin 1s steps(1) infinite;\n",
              "  }\n",
              "\n",
              "  @keyframes spin {\n",
              "    0% {\n",
              "      border-color: transparent;\n",
              "      border-bottom-color: var(--fill-color);\n",
              "      border-left-color: var(--fill-color);\n",
              "    }\n",
              "    20% {\n",
              "      border-color: transparent;\n",
              "      border-left-color: var(--fill-color);\n",
              "      border-top-color: var(--fill-color);\n",
              "    }\n",
              "    30% {\n",
              "      border-color: transparent;\n",
              "      border-left-color: var(--fill-color);\n",
              "      border-top-color: var(--fill-color);\n",
              "      border-right-color: var(--fill-color);\n",
              "    }\n",
              "    40% {\n",
              "      border-color: transparent;\n",
              "      border-right-color: var(--fill-color);\n",
              "      border-top-color: var(--fill-color);\n",
              "    }\n",
              "    60% {\n",
              "      border-color: transparent;\n",
              "      border-right-color: var(--fill-color);\n",
              "    }\n",
              "    80% {\n",
              "      border-color: transparent;\n",
              "      border-right-color: var(--fill-color);\n",
              "      border-bottom-color: var(--fill-color);\n",
              "    }\n",
              "    90% {\n",
              "      border-color: transparent;\n",
              "      border-bottom-color: var(--fill-color);\n",
              "    }\n",
              "  }\n",
              "</style>\n",
              "\n",
              "  <script>\n",
              "    async function quickchart(key) {\n",
              "      const quickchartButtonEl =\n",
              "        document.querySelector('#' + key + ' button');\n",
              "      quickchartButtonEl.disabled = true;  // To prevent multiple clicks.\n",
              "      quickchartButtonEl.classList.add('colab-df-spinner');\n",
              "      try {\n",
              "        const charts = await google.colab.kernel.invokeFunction(\n",
              "            'suggestCharts', [key], {});\n",
              "      } catch (error) {\n",
              "        console.error('Error during call to suggestCharts:', error);\n",
              "      }\n",
              "      quickchartButtonEl.classList.remove('colab-df-spinner');\n",
              "      quickchartButtonEl.classList.add('colab-df-quickchart-complete');\n",
              "    }\n",
              "    (() => {\n",
              "      let quickchartButtonEl =\n",
              "        document.querySelector('#df-95cb9b94-9022-4f5a-a17a-0df46a48dc16 button');\n",
              "      quickchartButtonEl.style.display =\n",
              "        google.colab.kernel.accessAllowed ? 'block' : 'none';\n",
              "    })();\n",
              "  </script>\n",
              "</div>\n",
              "\n",
              "    </div>\n",
              "  </div>\n"
            ],
            "application/vnd.google.colaboratory.intrinsic+json": {
              "type": "dataframe",
              "variable_name": "df"
            }
          },
          "metadata": {},
          "execution_count": 7
        }
      ]
    },
    {
      "cell_type": "code",
      "source": [
        "while True:\n",
        "  dict_stock = df.sample(1).to_dict(orient = \"records\")[0]\n",
        "  producer.send('demo_test', value = dict_stock)\n",
        "  sleep(1)"
      ],
      "metadata": {
        "colab": {
          "base_uri": "https://localhost:8080/",
          "height": 855
        },
        "id": "zpm-VfoD4Skh",
        "outputId": "09d9603a-c18c-43fe-c34c-5b2403f0c1bd"
      },
      "execution_count": null,
      "outputs": [
        {
          "output_type": "stream",
          "name": "stderr",
          "text": [
            "ERROR:kafka.conn:Connect attempt to <BrokerConnection node_id=0 host=3.21.244.255:9092 <connecting> [IPv4 ('3.21.244.255', 9092)]> returned error 111. Disconnecting.\n",
            "WARNING:kafka.client:Node 0 connection failed -- refreshing metadata\n",
            "ERROR:kafka.conn:Connect attempt to <BrokerConnection node_id=0 host=3.21.244.255:9092 <connecting> [IPv4 ('3.21.244.255', 9092)]> returned error 111. Disconnecting.\n",
            "WARNING:kafka.client:Node 0 connection failed -- refreshing metadata\n",
            "ERROR:kafka.conn:Connect attempt to <BrokerConnection node_id=0 host=3.21.244.255:9092 <connecting> [IPv4 ('3.21.244.255', 9092)]> returned error 111. Disconnecting.\n",
            "WARNING:kafka.client:Node 0 connection failed -- refreshing metadata\n",
            "ERROR:kafka.conn:Connect attempt to <BrokerConnection node_id=0 host=3.21.244.255:9092 <connecting> [IPv4 ('3.21.244.255', 9092)]> returned error 111. Disconnecting.\n",
            "WARNING:kafka.client:Node 0 connection failed -- refreshing metadata\n",
            "ERROR:kafka.conn:Connect attempt to <BrokerConnection node_id=0 host=3.21.244.255:9092 <connecting> [IPv4 ('3.21.244.255', 9092)]> returned error 111. Disconnecting.\n",
            "WARNING:kafka.client:Node 0 connection failed -- refreshing metadata\n",
            "ERROR:kafka.conn:Connect attempt to <BrokerConnection node_id=0 host=3.21.244.255:9092 <connecting> [IPv4 ('3.21.244.255', 9092)]> returned error 111. Disconnecting.\n",
            "WARNING:kafka.client:Node 0 connection failed -- refreshing metadata\n",
            "ERROR:kafka.conn:Connect attempt to <BrokerConnection node_id=0 host=3.21.244.255:9092 <connecting> [IPv4 ('3.21.244.255', 9092)]> returned error 111. Disconnecting.\n",
            "WARNING:kafka.client:Node 0 connection failed -- refreshing metadata\n",
            "ERROR:kafka.conn:Connect attempt to <BrokerConnection node_id=0 host=3.21.244.255:9092 <connecting> [IPv4 ('3.21.244.255', 9092)]> returned error 111. Disconnecting.\n",
            "WARNING:kafka.client:Node 0 connection failed -- refreshing metadata\n",
            "ERROR:kafka.conn:Connect attempt to <BrokerConnection node_id=0 host=3.21.244.255:9092 <connecting> [IPv4 ('3.21.244.255', 9092)]> returned error 111. Disconnecting.\n",
            "WARNING:kafka.client:Node 0 connection failed -- refreshing metadata\n",
            "ERROR:kafka.conn:Connect attempt to <BrokerConnection node_id=0 host=3.21.244.255:9092 <connecting> [IPv4 ('3.21.244.255', 9092)]> returned error 111. Disconnecting.\n",
            "WARNING:kafka.client:Node 0 connection failed -- refreshing metadata\n",
            "ERROR:kafka.conn:Connect attempt to <BrokerConnection node_id=0 host=3.21.244.255:9092 <connecting> [IPv4 ('3.21.244.255', 9092)]> returned error 111. Disconnecting.\n",
            "WARNING:kafka.client:Node 0 connection failed -- refreshing metadata\n",
            "ERROR:kafka.conn:Connect attempt to <BrokerConnection node_id=0 host=3.21.244.255:9092 <connecting> [IPv4 ('3.21.244.255', 9092)]> returned error 111. Disconnecting.\n",
            "WARNING:kafka.client:Node 0 connection failed -- refreshing metadata\n",
            "ERROR:kafka.conn:Connect attempt to <BrokerConnection node_id=0 host=3.21.244.255:9092 <connecting> [IPv4 ('3.21.244.255', 9092)]> returned error 111. Disconnecting.\n",
            "WARNING:kafka.client:Node 0 connection failed -- refreshing metadata\n",
            "ERROR:kafka.conn:Connect attempt to <BrokerConnection node_id=0 host=3.21.244.255:9092 <connecting> [IPv4 ('3.21.244.255', 9092)]> returned error 111. Disconnecting.\n",
            "WARNING:kafka.client:Node 0 connection failed -- refreshing metadata\n",
            "ERROR:kafka.conn:Connect attempt to <BrokerConnection node_id=0 host=3.21.244.255:9092 <connecting> [IPv4 ('3.21.244.255', 9092)]> returned error 111. Disconnecting.\n",
            "WARNING:kafka.client:Node 0 connection failed -- refreshing metadata\n",
            "ERROR:kafka.conn:Connect attempt to <BrokerConnection node_id=0 host=3.21.244.255:9092 <connecting> [IPv4 ('3.21.244.255', 9092)]> returned error 111. Disconnecting.\n",
            "WARNING:kafka.client:Node 0 connection failed -- refreshing metadata\n",
            "ERROR:kafka.conn:Connect attempt to <BrokerConnection node_id=0 host=3.21.244.255:9092 <connecting> [IPv4 ('3.21.244.255', 9092)]> returned error 111. Disconnecting.\n",
            "WARNING:kafka.client:Node 0 connection failed -- refreshing metadata\n",
            "ERROR:kafka.conn:Connect attempt to <BrokerConnection node_id=0 host=3.21.244.255:9092 <connecting> [IPv4 ('3.21.244.255', 9092)]> returned error 111. Disconnecting.\n",
            "WARNING:kafka.client:Node 0 connection failed -- refreshing metadata\n",
            "ERROR:kafka.conn:Connect attempt to <BrokerConnection node_id=0 host=3.21.244.255:9092 <connecting> [IPv4 ('3.21.244.255', 9092)]> returned error 111. Disconnecting.\n",
            "WARNING:kafka.client:Node 0 connection failed -- refreshing metadata\n"
          ]
        },
        {
          "output_type": "error",
          "ename": "KeyboardInterrupt",
          "evalue": "",
          "traceback": [
            "\u001b[0;31m---------------------------------------------------------------------------\u001b[0m",
            "\u001b[0;31mKeyboardInterrupt\u001b[0m                         Traceback (most recent call last)",
            "\u001b[0;32m<ipython-input-22-36af21fd0c9a>\u001b[0m in \u001b[0;36m<cell line: 1>\u001b[0;34m()\u001b[0m\n\u001b[1;32m      2\u001b[0m   \u001b[0mdict_stock\u001b[0m \u001b[0;34m=\u001b[0m \u001b[0mdf\u001b[0m\u001b[0;34m.\u001b[0m\u001b[0msample\u001b[0m\u001b[0;34m(\u001b[0m\u001b[0;36m1\u001b[0m\u001b[0;34m)\u001b[0m\u001b[0;34m.\u001b[0m\u001b[0mto_dict\u001b[0m\u001b[0;34m(\u001b[0m\u001b[0morient\u001b[0m \u001b[0;34m=\u001b[0m \u001b[0;34m\"records\"\u001b[0m\u001b[0;34m)\u001b[0m\u001b[0;34m[\u001b[0m\u001b[0;36m0\u001b[0m\u001b[0;34m]\u001b[0m\u001b[0;34m\u001b[0m\u001b[0;34m\u001b[0m\u001b[0m\n\u001b[1;32m      3\u001b[0m   \u001b[0mproducer\u001b[0m\u001b[0;34m.\u001b[0m\u001b[0msend\u001b[0m\u001b[0;34m(\u001b[0m\u001b[0;34m'demo_test'\u001b[0m\u001b[0;34m,\u001b[0m \u001b[0mvalue\u001b[0m \u001b[0;34m=\u001b[0m \u001b[0mdict_stock\u001b[0m\u001b[0;34m)\u001b[0m\u001b[0;34m\u001b[0m\u001b[0;34m\u001b[0m\u001b[0m\n\u001b[0;32m----> 4\u001b[0;31m   \u001b[0msleep\u001b[0m\u001b[0;34m(\u001b[0m\u001b[0;36m1\u001b[0m\u001b[0;34m)\u001b[0m\u001b[0;34m\u001b[0m\u001b[0;34m\u001b[0m\u001b[0m\n\u001b[0m",
            "\u001b[0;31mKeyboardInterrupt\u001b[0m: "
          ]
        }
      ]
    },
    {
      "cell_type": "code",
      "source": [
        "producer.flush()"
      ],
      "metadata": {
        "id": "FT4MSTpH9AbY"
      },
      "execution_count": null,
      "outputs": []
    },
    {
      "cell_type": "code",
      "source": [],
      "metadata": {
        "id": "hnqhrvVZF8u5"
      },
      "execution_count": null,
      "outputs": []
    }
  ]
}